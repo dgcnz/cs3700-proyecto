{
 "cells": [
  {
   "cell_type": "code",
   "execution_count": null,
   "metadata": {
    "colab": {
     "base_uri": "https://localhost:8080/"
    },
    "id": "tG7UwRbupYaX",
    "outputId": "7cbeedfd-5e21-4518-8ace-5afa1ab68245"
   },
   "outputs": [],
   "source": [
    "!pip install \"ray[default]\""
   ]
  },
  {
   "cell_type": "code",
   "execution_count": 34,
   "metadata": {
    "colab": {
     "base_uri": "https://localhost:8080/",
     "height": 1000
    },
    "id": "Q1qxdfhFbU50",
    "outputId": "9d1508b2-5e15-47c6-c507-b4c06c7dd909"
   },
   "outputs": [
    {
     "name": "stdout",
     "output_type": "stream",
     "text": [
      "Defaulting to user installation because normal site-packages is not writeable\n",
      "Requirement already satisfied: modin[ray] in /home/dgcnz/.local/lib/python3.9/site-packages (0.12.0)\n",
      "Requirement already satisfied: fsspec in /home/dgcnz/.local/lib/python3.9/site-packages (from modin[ray]) (2021.11.1)\n",
      "Requirement already satisfied: pandas==1.3.4 in /home/dgcnz/.local/lib/python3.9/site-packages (from modin[ray]) (1.3.4)\n",
      "Requirement already satisfied: numpy>=1.16.5 in /usr/lib/python3.9/site-packages (from modin[ray]) (1.21.2)\n",
      "Requirement already satisfied: packaging in /usr/lib/python3.9/site-packages (from modin[ray]) (20.9)\n",
      "Collecting pyarrow>=1.0\n",
      "  Downloading pyarrow-6.0.1-cp39-cp39-manylinux_2_17_x86_64.manylinux2014_x86_64.whl (25.6 MB)\n",
      "     |████████████████████████████████| 25.6 MB 11.7 MB/s            \n",
      "\u001b[?25hRequirement already satisfied: ray[default]>=1.4.0 in /home/dgcnz/.local/lib/python3.9/site-packages (from modin[ray]) (1.9.0)\n",
      "Requirement already satisfied: pytz>=2017.3 in /home/dgcnz/.local/lib/python3.9/site-packages (from pandas==1.3.4->modin[ray]) (2021.3)\n",
      "Requirement already satisfied: python-dateutil>=2.7.3 in /usr/lib/python3.9/site-packages (from pandas==1.3.4->modin[ray]) (2.8.2)\n",
      "Requirement already satisfied: msgpack<2.0.0,>=1.0.0 in /usr/lib/python3.9/site-packages (from ray[default]>=1.4.0->modin[ray]) (1.0.2)\n",
      "Requirement already satisfied: filelock in /usr/lib/python3.9/site-packages (from ray[default]>=1.4.0->modin[ray]) (3.0.12)\n",
      "Requirement already satisfied: protobuf>=3.15.3 in /home/dgcnz/.local/lib/python3.9/site-packages (from ray[default]>=1.4.0->modin[ray]) (3.19.1)\n",
      "Requirement already satisfied: jsonschema in /home/dgcnz/.local/lib/python3.9/site-packages (from ray[default]>=1.4.0->modin[ray]) (3.2.0)\n",
      "Requirement already satisfied: redis>=3.5.0 in /home/dgcnz/.local/lib/python3.9/site-packages (from ray[default]>=1.4.0->modin[ray]) (4.0.2)\n",
      "Requirement already satisfied: pyyaml in /usr/lib/python3.9/site-packages (from ray[default]>=1.4.0->modin[ray]) (5.4.1)\n",
      "Requirement already satisfied: grpcio>=1.28.1 in /home/dgcnz/.local/lib/python3.9/site-packages (from ray[default]>=1.4.0->modin[ray]) (1.42.0)\n",
      "Requirement already satisfied: attrs in /usr/lib/python3.9/site-packages (from ray[default]>=1.4.0->modin[ray]) (21.2.0)\n",
      "Requirement already satisfied: click>=7.0 in /usr/lib/python3.9/site-packages (from ray[default]>=1.4.0->modin[ray]) (8.0.3)\n",
      "Requirement already satisfied: frozenlist in /home/dgcnz/.local/lib/python3.9/site-packages (from ray[default]>=1.4.0->modin[ray]) (1.2.0)\n",
      "Requirement already satisfied: opencensus in /home/dgcnz/.local/lib/python3.9/site-packages (from ray[default]>=1.4.0->modin[ray]) (0.8.0)\n",
      "Requirement already satisfied: colorful in /home/dgcnz/.local/lib/python3.9/site-packages (from ray[default]>=1.4.0->modin[ray]) (0.5.4)\n",
      "Requirement already satisfied: aiohttp>=3.7 in /home/dgcnz/.local/lib/python3.9/site-packages (from ray[default]>=1.4.0->modin[ray]) (3.8.1)\n",
      "Requirement already satisfied: aioredis<2 in /home/dgcnz/.local/lib/python3.9/site-packages (from ray[default]>=1.4.0->modin[ray]) (1.3.1)\n",
      "Requirement already satisfied: py-spy>=0.2.0 in /home/dgcnz/.local/lib/python3.9/site-packages (from ray[default]>=1.4.0->modin[ray]) (0.3.11)\n",
      "Requirement already satisfied: aiosignal in /home/dgcnz/.local/lib/python3.9/site-packages (from ray[default]>=1.4.0->modin[ray]) (1.2.0)\n",
      "Requirement already satisfied: aiohttp-cors in /home/dgcnz/.local/lib/python3.9/site-packages (from ray[default]>=1.4.0->modin[ray]) (0.7.0)\n",
      "Requirement already satisfied: prometheus-client>=0.7.1 in /home/dgcnz/.local/lib/python3.9/site-packages (from ray[default]>=1.4.0->modin[ray]) (0.12.0)\n",
      "Requirement already satisfied: gpustat>=1.0.0b1 in /home/dgcnz/.local/lib/python3.9/site-packages (from ray[default]>=1.4.0->modin[ray]) (1.0.0b1)\n",
      "Requirement already satisfied: smart-open in /home/dgcnz/.local/lib/python3.9/site-packages (from ray[default]>=1.4.0->modin[ray]) (5.2.1)\n",
      "Requirement already satisfied: requests in /usr/lib/python3.9/site-packages (from ray[default]>=1.4.0->modin[ray]) (2.26.0)\n",
      "Requirement already satisfied: pyparsing>=2.0.2 in /usr/lib/python3.9/site-packages (from packaging->modin[ray]) (2.4.7)\n",
      "Requirement already satisfied: multidict<7.0,>=4.5 in /home/dgcnz/.local/lib/python3.9/site-packages (from aiohttp>=3.7->ray[default]>=1.4.0->modin[ray]) (5.2.0)\n",
      "Requirement already satisfied: yarl<2.0,>=1.0 in /home/dgcnz/.local/lib/python3.9/site-packages (from aiohttp>=3.7->ray[default]>=1.4.0->modin[ray]) (1.7.2)\n",
      "Requirement already satisfied: charset-normalizer<3.0,>=2.0 in /home/dgcnz/.local/lib/python3.9/site-packages (from aiohttp>=3.7->ray[default]>=1.4.0->modin[ray]) (2.0.9)\n",
      "Requirement already satisfied: async-timeout<5.0,>=4.0.0a3 in /home/dgcnz/.local/lib/python3.9/site-packages (from aiohttp>=3.7->ray[default]>=1.4.0->modin[ray]) (4.0.1)\n",
      "Requirement already satisfied: hiredis in /home/dgcnz/.local/lib/python3.9/site-packages (from aioredis<2->ray[default]>=1.4.0->modin[ray]) (2.0.0)\n",
      "Requirement already satisfied: nvidia-ml-py3>=7.352.0 in /home/dgcnz/.local/lib/python3.9/site-packages (from gpustat>=1.0.0b1->ray[default]>=1.4.0->modin[ray]) (7.352.0)\n",
      "Requirement already satisfied: psutil in /usr/lib/python3.9/site-packages (from gpustat>=1.0.0b1->ray[default]>=1.4.0->modin[ray]) (5.8.0)\n",
      "Requirement already satisfied: blessed>=1.17.1 in /home/dgcnz/.local/lib/python3.9/site-packages (from gpustat>=1.0.0b1->ray[default]>=1.4.0->modin[ray]) (1.19.0)\n",
      "Requirement already satisfied: six>=1.7 in /usr/lib/python3.9/site-packages (from gpustat>=1.0.0b1->ray[default]>=1.4.0->modin[ray]) (1.16.0)\n",
      "Requirement already satisfied: deprecated in /home/dgcnz/.local/lib/python3.9/site-packages (from redis>=3.5.0->ray[default]>=1.4.0->modin[ray]) (1.2.13)\n",
      "Requirement already satisfied: pyrsistent>=0.14.0 in /home/dgcnz/.local/lib/python3.9/site-packages (from jsonschema->ray[default]>=1.4.0->modin[ray]) (0.18.0)\n",
      "Requirement already satisfied: setuptools in /usr/lib/python3.9/site-packages (from jsonschema->ray[default]>=1.4.0->modin[ray]) (57.4.0)\n",
      "Requirement already satisfied: google-api-core<3.0.0,>=1.0.0 in /home/dgcnz/.local/lib/python3.9/site-packages (from opencensus->ray[default]>=1.4.0->modin[ray]) (2.3.0)\n",
      "Requirement already satisfied: opencensus-context==0.1.2 in /home/dgcnz/.local/lib/python3.9/site-packages (from opencensus->ray[default]>=1.4.0->modin[ray]) (0.1.2)\n",
      "Requirement already satisfied: chardet>=3.0.2 in /usr/lib/python3.9/site-packages (from requests->ray[default]>=1.4.0->modin[ray]) (4.0.0)\n",
      "Requirement already satisfied: idna>=2.5 in /usr/lib/python3.9/site-packages (from requests->ray[default]>=1.4.0->modin[ray]) (3.3)\n",
      "Requirement already satisfied: urllib3>=1.21.1 in /usr/lib/python3.9/site-packages (from requests->ray[default]>=1.4.0->modin[ray]) (1.26.7)\n",
      "Requirement already satisfied: typing-extensions>=3.6.5 in /usr/lib/python3.9/site-packages (from async-timeout<5.0,>=4.0.0a3->aiohttp>=3.7->ray[default]>=1.4.0->modin[ray]) (3.10.0.2)\n",
      "Requirement already satisfied: wcwidth>=0.1.4 in /home/dgcnz/.local/lib/python3.9/site-packages (from blessed>=1.17.1->gpustat>=1.0.0b1->ray[default]>=1.4.0->modin[ray]) (0.2.5)\n",
      "Requirement already satisfied: googleapis-common-protos<2.0dev,>=1.52.0 in /home/dgcnz/.local/lib/python3.9/site-packages (from google-api-core<3.0.0,>=1.0.0->opencensus->ray[default]>=1.4.0->modin[ray]) (1.54.0)\n",
      "Requirement already satisfied: google-auth<3.0dev,>=1.25.0 in /home/dgcnz/.local/lib/python3.9/site-packages (from google-api-core<3.0.0,>=1.0.0->opencensus->ray[default]>=1.4.0->modin[ray]) (2.3.3)\n",
      "Requirement already satisfied: wrapt<2,>=1.10 in /home/dgcnz/.local/lib/python3.9/site-packages (from deprecated->redis>=3.5.0->ray[default]>=1.4.0->modin[ray]) (1.13.3)\n",
      "Requirement already satisfied: cachetools<5.0,>=2.0.0 in /home/dgcnz/.local/lib/python3.9/site-packages (from google-auth<3.0dev,>=1.25.0->google-api-core<3.0.0,>=1.0.0->opencensus->ray[default]>=1.4.0->modin[ray]) (4.2.4)\n",
      "Requirement already satisfied: rsa<5,>=3.1.4 in /home/dgcnz/.local/lib/python3.9/site-packages (from google-auth<3.0dev,>=1.25.0->google-api-core<3.0.0,>=1.0.0->opencensus->ray[default]>=1.4.0->modin[ray]) (4.8)\n",
      "Requirement already satisfied: pyasn1-modules>=0.2.1 in /usr/lib/python3.9/site-packages (from google-auth<3.0dev,>=1.25.0->google-api-core<3.0.0,>=1.0.0->opencensus->ray[default]>=1.4.0->modin[ray]) (0.2.8)\n",
      "Requirement already satisfied: pyasn1<0.5.0,>=0.4.6 in /usr/lib/python3.9/site-packages (from pyasn1-modules>=0.2.1->google-auth<3.0dev,>=1.25.0->google-api-core<3.0.0,>=1.0.0->opencensus->ray[default]>=1.4.0->modin[ray]) (0.4.8)\n"
     ]
    },
    {
     "name": "stdout",
     "output_type": "stream",
     "text": [
      "Installing collected packages: pyarrow\n",
      "Successfully installed pyarrow-6.0.1\n"
     ]
    }
   ],
   "source": [
    "!pip install \"modin[ray]\" # Install Modin dependencies and Ray to run on Ray"
   ]
  },
  {
   "cell_type": "code",
   "execution_count": 1,
   "metadata": {
    "id": "CsMQzsvhhOK2"
   },
   "outputs": [],
   "source": [
    "import requests\n",
    "import pprint\n",
    "import pandas as pd\n",
    "import numpy as np\n",
    "from collections import defaultdict\n",
    "from tqdm import tqdm\n",
    "import random\n",
    "import networkx as nx\n",
    "import matplotlib.pyplot as plt\n",
    "from typing import List\n",
    "from typing import Dict\n",
    "from itertools import combinations\n",
    "import time"
   ]
  },
  {
   "cell_type": "code",
   "execution_count": 2,
   "metadata": {
    "colab": {
     "base_uri": "https://localhost:8080/"
    },
    "id": "X0FlTOsEbOOR",
    "outputId": "8db9f192-ab86-4281-fd58-61d04e8f140f"
   },
   "outputs": [
    {
     "name": "stderr",
     "output_type": "stream",
     "text": [
      "2021-12-08 20:58:24,419\tINFO services.py:1338 -- View the Ray dashboard at \u001b[1m\u001b[32mhttp://127.0.0.1:8265\u001b[39m\u001b[22m\n"
     ]
    },
    {
     "data": {
      "text/plain": [
       "{'node_ip_address': '192.168.1.100',\n",
       " 'raylet_ip_address': '192.168.1.100',\n",
       " 'redis_address': '192.168.1.100:6379',\n",
       " 'object_store_address': '/tmp/ray/session_2021-12-08_20-58-22_060472_81221/sockets/plasma_store',\n",
       " 'raylet_socket_name': '/tmp/ray/session_2021-12-08_20-58-22_060472_81221/sockets/raylet',\n",
       " 'webui_url': '127.0.0.1:8265',\n",
       " 'session_dir': '/tmp/ray/session_2021-12-08_20-58-22_060472_81221',\n",
       " 'metrics_export_port': 61171,\n",
       " 'node_id': 'cde035ec86450de2f891503de8ccfd9c18d1de37633dadeac9f5bd89'}"
      ]
     },
     "execution_count": 2,
     "metadata": {},
     "output_type": "execute_result"
    }
   ],
   "source": [
    "import ray\n",
    "ray.init(num_cpus=16)"
   ]
  },
  {
   "cell_type": "code",
   "execution_count": 35,
   "metadata": {},
   "outputs": [],
   "source": [
    "import modin.pandas as pd"
   ]
  },
  {
   "cell_type": "raw",
   "metadata": {},
   "source": []
  },
  {
   "cell_type": "markdown",
   "metadata": {
    "id": "vAYfoKauRVRH"
   },
   "source": [
    "## Old"
   ]
  },
  {
   "cell_type": "code",
   "execution_count": null,
   "metadata": {
    "id": "20vVZfpGmWMd"
   },
   "outputs": [],
   "source": [
    "def filter_handles(df: pd.DataFrame, handles=[]) -> pd.DataFrame:\n",
    "  df = df[df['handle'].isin(handles)]\n",
    "  return df\n",
    "\n",
    "def sample_random_users(df: pd.DataFrame, N:int = 5) -> pd.DataFrame:\n",
    "  handles = list(df['handle'].unique())\n",
    "  return random.sample(handles, N)"
   ]
  },
  {
   "cell_type": "code",
   "execution_count": null,
   "metadata": {
    "id": "8a-1bAezxwIQ"
   },
   "outputs": [],
   "source": [
    "from functools import lru_cache\n",
    "\n",
    "URL_USER_SUBMISSIONS = 'https://codeforces.com/api/user.status'\n",
    "\n",
    "@lru_cache(maxsize = 128)\n",
    "def get_all_problems(df):\n",
    "    return df['problemID'].unique().tolist()\n",
    "\n",
    "@lru_cache(maxsize = 128)\n",
    "def get_all_user_problems(user_handle):\n",
    "    res = requests.get(URL_USER_SUBMISSIONS,\n",
    "                       params={'handle': user_handle, 'from': 1,\n",
    "                       'to': 10000})\n",
    "    df = pd.DataFrame.from_dict(res.json()['result'])\n",
    "    df = df[(df['verdict'] == 'OK') | (df['verdict'] == 'WRONG_ANSWER')]\n",
    "    df = df[['problem', 'verdict']]\n",
    "    df['problem'] = df['problem'].apply(lambda x: str(x['contestId']) \\\n",
    "            + x['index'])\n",
    "    df.drop_duplicates(subset=['problem'])\n",
    "    return df\n",
    "\n",
    "@lru_cache(maxsize = 128)\n",
    "def get_solved_problems(df, user_handle):\n",
    "  return df[df['handle'] == user_handle] \n",
    "\n",
    "@lru_cache(maxsize = 128)\n",
    "def get_pending_problems(user_handle):\n",
    "    all_problems = get_all_problems()\n",
    "    solved_problems = get_solved_problems(user_handle)\n",
    "    df = all_problems[~all_problems['problem'].isin(solved_problems['problem'])]\n",
    "    return df"
   ]
  },
  {
   "cell_type": "markdown",
   "metadata": {
    "id": "zC-4QHCgmJmO"
   },
   "source": [
    "## Loading and Sampling Dataset (Diego Canez)"
   ]
  },
  {
   "cell_type": "code",
   "execution_count": 36,
   "metadata": {
    "id": "GHP4mAwjD8fP"
   },
   "outputs": [],
   "source": [
    "def get_all_user_problems(user_handle: str):\n",
    "    URL_USER_SUBMISSIONS = 'https://codeforces.com/api/user.status'\n",
    "    res = requests.get(URL_USER_SUBMISSIONS,\n",
    "                       params={'handle': user_handle})\n",
    "    df = pd.DataFrame.from_dict(res.json()['result'])\n",
    "    df = df[df['verdict'] == 'OK']\n",
    "    df = df[['problem']]\n",
    "    df['problem'] = df['problem'].apply(lambda x: str(x['contestId']) + x['index'] if 'contestId' in x else None)\n",
    "    df.dropna(inplace=True)\n",
    "    df.drop_duplicates(subset=['problem'], inplace=True)\n",
    "    return df['problem'].tolist()\n",
    "\n",
    "def prepare_dataset(user_handles: List[str]):\n",
    "  data = {}\n",
    "  for handle in user_handles:\n",
    "    data[handle] = get_all_user_problems(handle)\n",
    "    time.sleep(1)\n",
    "  return data"
   ]
  },
  {
   "cell_type": "code",
   "execution_count": 37,
   "metadata": {
    "id": "uuhupmlGV092"
   },
   "outputs": [],
   "source": [
    "def get_users(k=None):\n",
    "  URL = 'https://codeforces.com/api/user.ratedList?activeOnly=true'\n",
    "  res = requests.get(URL)\n",
    "  df = pd.DataFrame.from_dict(res.json()['result'])\n",
    "  ans = df['handle'].tolist()\n",
    "  if k is None:\n",
    "    k = len(ans)\n",
    "  return random.sample(ans, k)\n"
   ]
  },
  {
   "cell_type": "markdown",
   "metadata": {
    "id": "J-yLCfCetYAN"
   },
   "source": [
    "## Creation of the Graph (Jorge Rebosio)"
   ]
  },
  {
   "cell_type": "code",
   "execution_count": 38,
   "metadata": {
    "id": "4Jg1RJKcX5U0"
   },
   "outputs": [],
   "source": [
    "def add_edges(G: nx.Graph, problems_ix: List[int]):\n",
    "  for u, v in combinations(problems_ix, 2):\n",
    "    if (G.has_edge(u , v)):\n",
    "      G.edges[u, v]['weight'] += 1 \n",
    "    else:\n",
    "      G.add_edge(u, v, weight=1)\n",
    "\n",
    "def create_graph(user_problems_ix: Dict[str, List[int]]) -> nx.Graph:\n",
    "  G = nx.Graph()\n",
    "  for user, problems_ix in user_problems_ix.items():\n",
    "    add_edges(G, problems_ix)\n",
    "  return G"
   ]
  },
  {
   "cell_type": "markdown",
   "metadata": {
    "id": "4UJvogyavNeA"
   },
   "source": [
    "### Plotting Subgraph"
   ]
  },
  {
   "cell_type": "code",
   "execution_count": 39,
   "metadata": {
    "id": "yXtkefknmIB-"
   },
   "outputs": [],
   "source": [
    "# Sampling 10 nodes from graph G\n",
    "def draw_subgraph(G: nx.Graph, N = 10, edge_attribute='weight'):\n",
    "  H = G.subgraph(list(G.nodes)[:N])\n",
    "  pos = nx.spring_layout(H)\n",
    "  nx.draw(H, pos)\n",
    "  edge_labels = nx.get_edge_attributes(H,edge_attribute)\n",
    "  nx.draw_networkx_edge_labels(H, pos, edge_labels=edge_labels)\n",
    "  plt.show()"
   ]
  },
  {
   "cell_type": "markdown",
   "metadata": {
    "id": "b9Cv3GOnvmG2"
   },
   "source": [
    "## Building similarity matrix (Diego Canez)"
   ]
  },
  {
   "cell_type": "markdown",
   "metadata": {
    "id": "fhcW3xHwv_cJ"
   },
   "source": [
    "### Similarity Metrics"
   ]
  },
  {
   "cell_type": "markdown",
   "metadata": {
    "id": "n-TYy1NSkyP7"
   },
   "source": [
    "#### Edge Weights (EW)\n",
    "$$\n",
    "EW(x, y) = A_{x, y}\n",
    "$$"
   ]
  },
  {
   "cell_type": "code",
   "execution_count": 40,
   "metadata": {
    "id": "HbfuoPvZkxYE"
   },
   "outputs": [],
   "source": [
    "def grouped(l, group_size):\n",
    "    for i in range(0, len(l), group_size):\n",
    "        yield i, min(i+group_size, len(l))\n",
    "\n",
    "@ray.remote\n",
    "def ew_batch_compute_value(G: nx.Graph, l: int, r: int):\n",
    "    return [(ew_compute_value(G, x, y), x, y) for x, y in list(G.edges)[l:r]]\n",
    "\n",
    "def ew_compute_value(G: nx.Graph, x:int, y:int):\n",
    "    return G[x][y]['weight']\n",
    "\n",
    "def edge_weights(G: nx.Graph):\n",
    "    N = len(G.nodes)\n",
    "    EW = np.zeros((N, N))\n",
    "    G_id = ray.put(G)\n",
    "    ans = [ew_batch_compute_value.remote(G_id, l, r) for l, r in grouped(G.edges(), 5000)]\n",
    "    ans = ray.get(ans)\n",
    "    for batch in ans:\n",
    "        for val, x, y in batch:\n",
    "            EW[x, y] = EW[x, y] = val\n",
    "    return EW"
   ]
  },
  {
   "cell_type": "markdown",
   "metadata": {
    "id": "zxHh-BTN40nd"
   },
   "source": [
    "#### Weighted Common Neighbors (WCN)\n",
    "$$\n",
    "WCN(x, y) = \\Sigma_{z \\in N(x) \\cap N(y)} A_{x, z} + A_{z, y}\n",
    "$$"
   ]
  },
  {
   "cell_type": "code",
   "execution_count": 41,
   "metadata": {
    "id": "8CfGr453vKHQ"
   },
   "outputs": [],
   "source": [
    "def grouped(l, group_size):\n",
    "    for i in range(0, len(l), group_size):\n",
    "        yield i, min(i+group_size, len(l))\n",
    "\n",
    "@ray.remote\n",
    "def wcn_batch_compute_value(G: nx.Graph, l: int, r: int):\n",
    "    return [(wcn_compute_value(G, x, y), x, y) for x, y in list(G.edges)[l:r]]\n",
    "\n",
    "def wcn_compute_value(G: nx.Graph, x:int, y:int):\n",
    "    val = 0.0\n",
    "    for z in nx.common_neighbors(G, x, y):\n",
    "        val += G[x][z]['weight'] + G[z][y]['weight']\n",
    "    return val\n",
    "\n",
    "def weighted_common_neighbors(G: nx.Graph, attr='weight'):\n",
    "    N = len(G)\n",
    "    WCN = np.zeros((N, N))\n",
    "    G_id = ray.put(G)\n",
    "    ans = [wcn_batch_compute_value.remote(G_id, l, r) for l, r in grouped(G.edges(), 5000)]\n",
    "    ans = ray.get(ans)\n",
    "    for batch in ans:\n",
    "        for val, x, y in batch:\n",
    "            WCN[x, y] = WCN[y, x] = val\n",
    "    return WCN"
   ]
  },
  {
   "cell_type": "markdown",
   "metadata": {
    "id": "n2JHegbV5Ceb"
   },
   "source": [
    "## Produce Recommendations (Maria Lovaton)"
   ]
  },
  {
   "cell_type": "markdown",
   "metadata": {
    "id": "82u7uaNumqNo"
   },
   "source": [
    "Source: https://sci-hub.se/https://doi.org/10.1007/978-3-319-61030-6_7"
   ]
  },
  {
   "cell_type": "code",
   "execution_count": 42,
   "metadata": {
    "id": "tZgaGALm4-4g"
   },
   "outputs": [],
   "source": [
    "def recommend(user_handle, sim, user_problems_ix, problems_ix, problems, k=None):\n",
    "  N = len(problems_ix)\n",
    "  solved_problems = user_problems_ix[user_handle]\n",
    "  pending_problems = list(set(range(N)) - set(problems_ix))\n",
    "  P = [0.0] * N\n",
    "  for pi in solved_problems:\n",
    "    for pj in pending_problems:\n",
    "      if P[pj] < sim[pi, pj]:\n",
    "        P[pj] = sim[pi, pj]\n",
    "  ans = list(enumerate(P))\n",
    "  ans.sort(key=lambda index_score: index_score[1], reverse=True)\n",
    "  ans = [(problems[ix], score) for ix, score in ans]\n",
    "  if k is None:\n",
    "    return ans\n",
    "  else:\n",
    "    k = min(len(ans), max(0, k))\n",
    "    return ans[:k]"
   ]
  },
  {
   "cell_type": "markdown",
   "metadata": {
    "id": "F3PFLv9yQmlU"
   },
   "source": [
    "## Execution"
   ]
  },
  {
   "cell_type": "code",
   "execution_count": 7,
   "metadata": {
    "colab": {
     "base_uri": "https://localhost:8080/"
    },
    "id": "goj9HwkeRPdn",
    "outputId": "95b1f435-0505-4544-d900-3ba116c2bb6e"
   },
   "outputs": [
    {
     "name": "stdout",
     "output_type": "stream",
     "text": [
      "['dgcnz', 'Yinch', 'ginious', 'Gornak40', 'VLADOSIO', 'Elkhiat']\n"
     ]
    }
   ],
   "source": [
    "users = ['dgcnz'] + get_users(k=5)\n",
    "print(users) "
   ]
  },
  {
   "cell_type": "code",
   "execution_count": 43,
   "metadata": {
    "colab": {
     "base_uri": "https://localhost:8080/"
    },
    "id": "MbYv-GR5RPdo",
    "outputId": "6102ee7b-5005-4332-8376-d76b9f66b1e8"
   },
   "outputs": [
    {
     "name": "stderr",
     "output_type": "stream",
     "text": [
      "UserWarning: `from_dict` defaulting to pandas implementation.\n",
      "To request implementation, send an email to feature_requests@modin.org.\n",
      "UserWarning: User-defined function verification is still under development in Modin. The function provided is not verified.\n",
      "UserWarning: `Series.tolist` defaulting to pandas implementation.\n",
      "UserWarning: `from_dict` defaulting to pandas implementation.\n"
     ]
    },
    {
     "name": "stdout",
     "output_type": "stream",
     "text": [
      "CPU times: user 1.76 s, sys: 259 ms, total: 2.02 s\n",
      "Wall time: 13.8 s\n"
     ]
    }
   ],
   "source": [
    "%%time\n",
    "user_problems = prepare_dataset(users)\n",
    "problems = list({problem for problem_list in user_problems.values() for problem in problem_list})\n",
    "problems_ix = {problemId : index for index, problemId in enumerate(problems)}\n",
    "user_problems_ix = {user : [problems_ix[problem] for problem in problems] for user, problems in user_problems.items()}"
   ]
  },
  {
   "cell_type": "code",
   "execution_count": 9,
   "metadata": {
    "colab": {
     "base_uri": "https://localhost:8080/"
    },
    "id": "NP2Ow-vkUO68",
    "outputId": "0154bc33-9a71-4a56-af65-4db857d6b192"
   },
   "outputs": [
    {
     "data": {
      "text/plain": [
       "1373"
      ]
     },
     "execution_count": 9,
     "metadata": {},
     "output_type": "execute_result"
    }
   ],
   "source": [
    "len(problems)"
   ]
  },
  {
   "cell_type": "code",
   "execution_count": 10,
   "metadata": {
    "colab": {
     "base_uri": "https://localhost:8080/"
    },
    "id": "kGXzKcH5QmOj",
    "outputId": "0443e038-e512-46a4-e273-03e2cc20f0eb"
   },
   "outputs": [
    {
     "name": "stdout",
     "output_type": "stream",
     "text": [
      "CPU times: user 587 ms, sys: 40.3 ms, total: 627 ms\n",
      "Wall time: 623 ms\n"
     ]
    }
   ],
   "source": [
    "%%time\n",
    "G = create_graph(user_problems_ix)"
   ]
  },
  {
   "cell_type": "code",
   "execution_count": 32,
   "metadata": {
    "colab": {
     "base_uri": "https://localhost:8080/"
    },
    "id": "3CFQY7W9iHdT",
    "outputId": "e63b542d-40c3-4b65-de3d-dd3d38ab8e16"
   },
   "outputs": [
    {
     "name": "stdout",
     "output_type": "stream",
     "text": [
      "CPU times: user 4.41 s, sys: 663 ms, total: 5.07 s\n",
      "Wall time: 2min 59s\n"
     ]
    }
   ],
   "source": [
    "%%time\n",
    "sim = weighted_common_neighbors(G)\n",
    "# sim = edge_weights(G)"
   ]
  },
  {
   "cell_type": "code",
   "execution_count": 31,
   "metadata": {
    "id": "zO1z5_4vjYka"
   },
   "outputs": [
    {
     "data": {
      "text/plain": [
       "0.6287321712578486"
      ]
     },
     "execution_count": 31,
     "metadata": {},
     "output_type": "execute_result"
    }
   ],
   "source": [
    "nx.density(G)"
   ]
  },
  {
   "cell_type": "code",
   "execution_count": 30,
   "metadata": {
    "colab": {
     "base_uri": "https://localhost:8080/"
    },
    "id": "dx3B4UFa5NI0",
    "outputId": "b8c65fc9-3e95-4b2b-e1f9-4f50e2da67f3"
   },
   "outputs": [
    {
     "data": {
      "text/plain": [
       "[('1610A', 2995.0),\n",
       " ('791A', 2995.0),\n",
       " ('1474B', 2993.0),\n",
       " ('1433D', 2993.0),\n",
       " ('1312B', 2993.0)]"
      ]
     },
     "execution_count": 30,
     "metadata": {},
     "output_type": "execute_result"
    }
   ],
   "source": [
    "recommend('dgcnz', sim, user_problems_ix, problems_ix, problems, k=5)"
   ]
  },
  {
   "cell_type": "code",
   "execution_count": null,
   "metadata": {},
   "outputs": [],
   "source": []
  }
 ],
 "metadata": {
  "colab": {
   "collapsed_sections": [],
   "name": "ProyectoMejorado.ipynb",
   "provenance": []
  },
  "kernelspec": {
   "display_name": "Python 3 (ipykernel)",
   "language": "python",
   "name": "python3"
  },
  "language_info": {
   "codemirror_mode": {
    "name": "ipython",
    "version": 3
   },
   "file_extension": ".py",
   "mimetype": "text/x-python",
   "name": "python",
   "nbconvert_exporter": "python",
   "pygments_lexer": "ipython3",
   "version": "3.9.7"
  }
 },
 "nbformat": 4,
 "nbformat_minor": 1
}

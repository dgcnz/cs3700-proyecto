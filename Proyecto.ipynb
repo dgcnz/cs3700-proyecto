{
  "nbformat": 4,
  "nbformat_minor": 0,
  "metadata": {
    "colab": {
      "name": "Proyecto.ipynb",
      "provenance": [],
      "toc_visible": true
    },
    "kernelspec": {
      "name": "python3",
      "display_name": "Python 3"
    },
    "language_info": {
      "name": "python"
    }
  },
  "cells": [
    {
      "cell_type": "code",
      "metadata": {
        "id": "jOfZeJlATpSX"
      },
      "source": [
        "import urllib.request, json  "
      ],
      "execution_count": null,
      "outputs": []
    },
    {
      "cell_type": "code",
      "metadata": {
        "id": "IvxL-9xoX7mT"
      },
      "source": [
        "def getData(url):\n",
        "  response = urllib.request.urlopen(url)\n",
        "  data = json.loads(response.read())\n",
        "  return data[\"result\"]"
      ],
      "execution_count": null,
      "outputs": []
    },
    {
      "cell_type": "code",
      "metadata": {
        "id": "hgBEzIl_Twbi"
      },
      "source": [
        "urluser = \"https://codeforces.com/api/user.ratedList\"\n",
        "urlprob = \"https://codeforces.com/api/problemset.problems\"\n",
        "urlrating = \" https://codeforces.com/api/contest.ratingChanges\""
      ],
      "execution_count": null,
      "outputs": []
    },
    {
      "cell_type": "markdown",
      "metadata": {
        "id": "NqRhX7qYKIih"
      },
      "source": [
        "# User"
      ]
    },
    {
      "cell_type": "code",
      "metadata": {
        "colab": {
          "base_uri": "https://localhost:8080/"
        },
        "id": "BS-UWrObk8jx",
        "outputId": "e655ff87-3b4c-40ff-8446-27db88e1d0a0"
      },
      "source": [
        "dataUser = getData(urluser)\n",
        "len(dataUser)"
      ],
      "execution_count": null,
      "outputs": [
        {
          "output_type": "execute_result",
          "data": {
            "text/plain": [
              "385406"
            ]
          },
          "metadata": {},
          "execution_count": 5
        }
      ]
    },
    {
      "cell_type": "code",
      "metadata": {
        "id": "JFb_nJGxlgnc"
      },
      "source": [
        "import csv\n",
        "\n",
        "with open('user.csv', mode='w') as user_file:\n",
        "    user_writer = csv.writer(user_file, delimiter=',', quotechar='\"', quoting=csv.QUOTE_MINIMAL)\n",
        "    for user in dataUser:\n",
        "      user_writer.writerow([user[\"handle\"], user.get(\"country\", \"\"), user.get(\"city\", \"\"), user[\"rating\"], \n",
        "                            user[\"maxRating\"], user[\"lastOnlineTimeSeconds\"],])"
      ],
      "execution_count": null,
      "outputs": []
    },
    {
      "cell_type": "code",
      "metadata": {
        "colab": {
          "base_uri": "https://localhost:8080/"
        },
        "id": "MfBDNNP5lBPg",
        "outputId": "3783124a-52fe-4430-8197-b017a431ad48"
      },
      "source": [
        "dataUser[0].keys()"
      ],
      "execution_count": null,
      "outputs": [
        {
          "output_type": "execute_result",
          "data": {
            "text/plain": [
              "dict_keys(['lastName', 'country', 'lastOnlineTimeSeconds', 'city', 'rating', 'friendOfCount', 'titlePhoto', 'handle', 'avatar', 'firstName', 'contribution', 'organization', 'rank', 'maxRating', 'registrationTimeSeconds', 'maxRank'])"
            ]
          },
          "metadata": {},
          "execution_count": 7
        }
      ]
    },
    {
      "cell_type": "code",
      "metadata": {
        "colab": {
          "base_uri": "https://localhost:8080/"
        },
        "id": "ftFhDFanAQBm",
        "outputId": "e25a3edc-1e26-417b-b6a0-83856957d3cd"
      },
      "source": [
        "dataUser[0]"
      ],
      "execution_count": null,
      "outputs": [
        {
          "output_type": "execute_result",
          "data": {
            "text/plain": [
              "{'avatar': 'https://userpic.codeforces.org/422/avatar/2b5dbe87f0d859a2.jpg',\n",
              " 'city': 'Gomel',\n",
              " 'contribution': 0,\n",
              " 'country': 'Belarus',\n",
              " 'firstName': 'Gennady',\n",
              " 'friendOfCount': 38433,\n",
              " 'handle': 'tourist',\n",
              " 'lastName': 'Korotkevich',\n",
              " 'lastOnlineTimeSeconds': 1637834489,\n",
              " 'maxRank': 'legendary grandmaster',\n",
              " 'maxRating': 3822,\n",
              " 'organization': 'ITMO University',\n",
              " 'rank': 'legendary grandmaster',\n",
              " 'rating': 3797,\n",
              " 'registrationTimeSeconds': 1265987288,\n",
              " 'titlePhoto': 'https://userpic.codeforces.org/422/title/50a270ed4a722867.jpg'}"
            ]
          },
          "metadata": {},
          "execution_count": 8
        }
      ]
    },
    {
      "cell_type": "markdown",
      "metadata": {
        "id": "gQ1IxB2GKKUc"
      },
      "source": [
        "# Problem"
      ]
    },
    {
      "cell_type": "code",
      "metadata": {
        "id": "COaIK6GaT7xa",
        "colab": {
          "base_uri": "https://localhost:8080/"
        },
        "outputId": "7d03b200-a476-4a9a-cbdf-f45898865341"
      },
      "source": [
        "dataProblem = getData(urlprob)\n",
        "len(dataProblem)"
      ],
      "execution_count": null,
      "outputs": [
        {
          "output_type": "execute_result",
          "data": {
            "text/plain": [
              "2"
            ]
          },
          "metadata": {},
          "execution_count": 19
        }
      ]
    },
    {
      "cell_type": "code",
      "metadata": {
        "colab": {
          "base_uri": "https://localhost:8080/"
        },
        "id": "CoPHe129baFJ",
        "outputId": "6d8956e2-43ba-448a-91b3-b8aaf46f216c"
      },
      "source": [
        "dataProblem.keys()"
      ],
      "execution_count": null,
      "outputs": [
        {
          "output_type": "execute_result",
          "data": {
            "text/plain": [
              "dict_keys(['problems', 'problemStatistics'])"
            ]
          },
          "metadata": {},
          "execution_count": 15
        }
      ]
    },
    {
      "cell_type": "code",
      "metadata": {
        "colab": {
          "base_uri": "https://localhost:8080/"
        },
        "id": "CuwdrCgYUEWZ",
        "outputId": "f56253b5-bed0-42a9-c637-8775d51d2004"
      },
      "source": [
        "len(dataProblem[\"problemStatistics\"]) ,len(dataProblem[\"problems\"]) "
      ],
      "execution_count": null,
      "outputs": [
        {
          "output_type": "execute_result",
          "data": {
            "text/plain": [
              "(7385, 7385)"
            ]
          },
          "metadata": {},
          "execution_count": 20
        }
      ]
    },
    {
      "cell_type": "code",
      "metadata": {
        "colab": {
          "base_uri": "https://localhost:8080/",
          "height": 36
        },
        "id": "xNS_MlpBI8h5",
        "outputId": "58704fbe-3ab0-4402-e715-f32caef1fd45"
      },
      "source": [
        "'|'.join(dataProblem[\"problems\"][0][\"tags\"])"
      ],
      "execution_count": null,
      "outputs": [
        {
          "output_type": "execute_result",
          "data": {
            "application/vnd.google.colaboratory.intrinsic+json": {
              "type": "string"
            },
            "text/plain": [
              "'combinatorics|constructive algorithms|greedy|sortings'"
            ]
          },
          "metadata": {},
          "execution_count": 29
        }
      ]
    },
    {
      "cell_type": "code",
      "metadata": {
        "id": "e5YcAhqWE6Qy"
      },
      "source": [
        "with open('problem.csv', mode='w') as problem_file:\n",
        "    problem_writer = csv.writer(problem_file, delimiter=',', quotechar='\"', quoting=csv.QUOTE_MINIMAL)\n",
        "    for problem, problemstat in zip(dataProblem[\"problems\"], dataProblem[\"problemStatistics\"]):\n",
        "      tags = '|'.join(problem[\"tags\"])\n",
        "      problem_writer.writerow([problem[\"contestId\"], problem.get(\"rating\", \"\"), problem[\"type\"], tags, \n",
        "                            problemstat[\"solvedCount\"]])"
      ],
      "execution_count": null,
      "outputs": []
    },
    {
      "cell_type": "code",
      "metadata": {
        "colab": {
          "base_uri": "https://localhost:8080/"
        },
        "id": "8v2tJfgkYLwU",
        "outputId": "ebc7163a-254f-499b-8a5a-2f0da6eb1d92"
      },
      "source": [
        "print(dataProblem[\"problemStatistics\"][0].keys())\n",
        "dataProblem[\"problemStatistics\"][0]"
      ],
      "execution_count": null,
      "outputs": [
        {
          "output_type": "stream",
          "name": "stdout",
          "text": [
            "dict_keys(['contestId', 'index', 'solvedCount'])\n"
          ]
        },
        {
          "output_type": "execute_result",
          "data": {
            "text/plain": [
              "{'contestId': 1612, 'index': 'G', 'solvedCount': 242}"
            ]
          },
          "metadata": {},
          "execution_count": 22
        }
      ]
    },
    {
      "cell_type": "code",
      "metadata": {
        "colab": {
          "base_uri": "https://localhost:8080/"
        },
        "id": "NqBM2YqtBziR",
        "outputId": "e57be36a-2e2e-4d00-c019-975d7ee15a3d"
      },
      "source": [
        "print(dataProblem[\"problems\"][0].keys())\n",
        "dataProblem[\"problems\"][0]"
      ],
      "execution_count": null,
      "outputs": [
        {
          "output_type": "stream",
          "name": "stdout",
          "text": [
            "dict_keys(['contestId', 'index', 'name', 'type', 'rating', 'tags'])\n"
          ]
        },
        {
          "output_type": "execute_result",
          "data": {
            "text/plain": [
              "{'contestId': 1612,\n",
              " 'index': 'G',\n",
              " 'name': 'Max Sum Array',\n",
              " 'rating': 2500,\n",
              " 'tags': ['combinatorics', 'constructive algorithms', 'greedy', 'sortings'],\n",
              " 'type': 'PROGRAMMING'}"
            ]
          },
          "metadata": {},
          "execution_count": 23
        }
      ]
    },
    {
      "cell_type": "markdown",
      "metadata": {
        "id": "pACPI9TFKNuA"
      },
      "source": [
        "# Rating"
      ]
    },
    {
      "cell_type": "code",
      "metadata": {
        "colab": {
          "base_uri": "https://localhost:8080/"
        },
        "id": "WVCecax3KQaR",
        "outputId": "8f0990ca-fd22-4aa8-888f-b52910d36730"
      },
      "source": [
        "dataRating = getData(\"https://codeforces.com/api/contest.list\")\n",
        "len(dataRating)"
      ],
      "execution_count": null,
      "outputs": [
        {
          "output_type": "execute_result",
          "data": {
            "text/plain": [
              "1536"
            ]
          },
          "metadata": {},
          "execution_count": 37
        }
      ]
    }
  ]
}
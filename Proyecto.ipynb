{
  "nbformat": 4,
  "nbformat_minor": 0,
  "metadata": {
    "colab": {
      "name": "Proyecto.ipynb",
      "provenance": [],
      "collapsed_sections": []
    },
    "kernelspec": {
      "name": "python3",
      "display_name": "Python 3"
    },
    "language_info": {
      "name": "python"
    }
  },
  "cells": [
    {
      "cell_type": "code",
      "metadata": {
        "id": "CsMQzsvhhOK2"
      },
      "source": [
        "import requests\n",
        "import pprint\n",
        "import pandas as pd\n",
        "import numpy as np\n",
        "from collections import defaultdict\n",
        "from tqdm import tqdm\n",
        "import random\n",
        "import networkx as nx\n",
        "import matplotlib.pyplot as plt\n",
        "from typing import List\n",
        "from itertools import combinations"
      ],
      "execution_count": null,
      "outputs": []
    },
    {
      "cell_type": "markdown",
      "metadata": {
        "id": "zC-4QHCgmJmO"
      },
      "source": [
        "## Loading and Sampling Dataset (Diego Canez)"
      ]
    },
    {
      "cell_type": "code",
      "metadata": {
        "id": "lqQhOAxkmPE_"
      },
      "source": [
        "df = pd.read_csv('userProblemDONE.csv')"
      ],
      "execution_count": null,
      "outputs": []
    },
    {
      "cell_type": "code",
      "metadata": {
        "id": "20vVZfpGmWMd"
      },
      "source": [
        "def filter_handles(df: pd.DataFrame, handles=[]) -> pd.DataFrame:\n",
        "  df = df[df['handle'].isin(handles)]\n",
        "  return df\n",
        "\n",
        "def sample_random_users(df: pd.DataFrame, N:int = 5) -> pd.DataFrame:\n",
        "  handles = list(df['handle'].unique())\n",
        "  return random.sample(handles, N)"
      ],
      "execution_count": null,
      "outputs": []
    },
    {
      "cell_type": "code",
      "metadata": {
        "id": "dlqVlyF3nFBD"
      },
      "source": [
        "df = filter_handles(df, sample_random_users(df, 5))"
      ],
      "execution_count": null,
      "outputs": []
    },
    {
      "cell_type": "code",
      "metadata": {
        "colab": {
          "base_uri": "https://localhost:8080/"
        },
        "id": "ZX0AN_WOoqqI",
        "outputId": "0eab0839-4912-4f17-b36d-2982a001112c"
      },
      "source": [
        "print(df)"
      ],
      "execution_count": null,
      "outputs": [
        {
          "output_type": "stream",
          "name": "stdout",
          "text": [
            "                  handle problemID\n",
            "29                Cvangi     1552B\n",
            "30                Cvangi     1512C\n",
            "31                Cvangi     1499B\n",
            "32                Cvangi     1157B\n",
            "55     I-Love-Phuong-Anh     1506B\n",
            "...                  ...       ...\n",
            "48505            cjxj233      776D\n",
            "48506            cjxj233      916E\n",
            "48657             Cvangi     1455A\n",
            "48658             Cvangi     1238B\n",
            "48726            agrippa    1249B1\n",
            "\n",
            "[989 rows x 2 columns]\n"
          ]
        }
      ]
    },
    {
      "cell_type": "markdown",
      "metadata": {
        "id": "J-yLCfCetYAN"
      },
      "source": [
        "## Creation of the Graph (Jorge Rebosio)"
      ]
    },
    {
      "cell_type": "code",
      "metadata": {
        "id": "4Jg1RJKcX5U0"
      },
      "source": [
        "def add_edges(G: nx.Graph, user_problems: List[str]):\n",
        "  for u, v in combinations(user_problems, 2):\n",
        "    if (G.has_edge(u , v)):\n",
        "      G.edges[u , v]['weight'] +=1 \n",
        "    else:\n",
        "      G.add_edge(u, v, weight=1)\n",
        "\n",
        "def create_graph(df: pd.DataFrame) -> nx.Graph:\n",
        "  G = nx.Graph()\n",
        "  for user in [y for x, y in df.groupby('handle', as_index=False)]:\n",
        "    add_edges(G, user[\"problemID\"].values)\n",
        "  return G"
      ],
      "execution_count": null,
      "outputs": []
    },
    {
      "cell_type": "markdown",
      "metadata": {
        "id": "4UJvogyavNeA"
      },
      "source": [
        "### Plotting Subgraph"
      ]
    },
    {
      "cell_type": "code",
      "metadata": {
        "id": "yXtkefknmIB-"
      },
      "source": [
        "# Sampling 10 nodes from graph G\n",
        "def draw_subgraph(G: nx.Graph, N = 10, edge_attribute='weight'):\n",
        "  H = G.subgraph(list(G.nodes)[:N])\n",
        "  pos = nx.spring_layout(H)\n",
        "  nx.draw(H, pos)\n",
        "  edge_labels = nx.get_edge_attributes(H,edge_attribute)\n",
        "  nx.draw_networkx_edge_labels(H, pos, edge_labels=edge_labels)\n",
        "  plt.show()"
      ],
      "execution_count": null,
      "outputs": []
    },
    {
      "cell_type": "markdown",
      "metadata": {
        "id": "b9Cv3GOnvmG2"
      },
      "source": [
        "## Building similarity matrix (Diego Canez)"
      ]
    },
    {
      "cell_type": "markdown",
      "metadata": {
        "id": "fhcW3xHwv_cJ"
      },
      "source": [
        "### Similarity Metrics"
      ]
    },
    {
      "cell_type": "markdown",
      "metadata": {
        "id": "n-TYy1NSkyP7"
      },
      "source": [
        "#### Edge Weights (EW)\n",
        "$$\n",
        "EW(x, y) = A_{x, y}\n",
        "$$"
      ]
    },
    {
      "cell_type": "code",
      "metadata": {
        "id": "HbfuoPvZkxYE"
      },
      "source": [
        "def edge_weights(G: nx.Graph, attr='weight'):\n",
        "    N = len(G)\n",
        "    EW = defaultdict(lambda: defaultdict(int))\n",
        "    for (x, y) in tqdm(G.edges()):\n",
        "        EW[x][y] = G[x][y]\n",
        "    return EW"
      ],
      "execution_count": null,
      "outputs": []
    },
    {
      "cell_type": "markdown",
      "metadata": {
        "id": "zxHh-BTN40nd"
      },
      "source": [
        "#### Weighted Common Neighbors (WCN)\n",
        "$$\n",
        "WCN(x, y) = \\Sigma_{z \\in N(x) \\cap N(y)} A_{x, z} + A_{z, y}\n",
        "$$"
      ]
    },
    {
      "cell_type": "code",
      "metadata": {
        "id": "8CfGr453vKHQ"
      },
      "source": [
        "def weighted_common_neighbors(G: nx.Graph, attr='weight'):\n",
        "  N = len(G)\n",
        "  WCN = defaultdict(lambda: defaultdict(int))\n",
        "  for (x, y) in tqdm(G.edges()):\n",
        "    for z in nx.common_neighbors(G, x, y):\n",
        "      val = G[x][z][attr] + G[z][y][attr]\n",
        "      WCN[x][y] += val\n",
        "      WCN[y][x] += val\n",
        "  return WCN"
      ],
      "execution_count": null,
      "outputs": []
    },
    {
      "cell_type": "markdown",
      "metadata": {
        "id": "nJrMouNFpN7Z"
      },
      "source": [
        "### Choosing a Similarity Matrix"
      ]
    },
    {
      "cell_type": "code",
      "metadata": {
        "colab": {
          "base_uri": "https://localhost:8080/"
        },
        "id": "oOHgH0b_pLJL",
        "outputId": "45202609-4d45-4d91-c258-4cf1d5f61cd4"
      },
      "source": [
        "sim = edge_weights(G)"
      ],
      "execution_count": null,
      "outputs": [
        {
          "output_type": "stream",
          "name": "stderr",
          "text": [
            "100%|██████████| 11175608/11175608 [00:26<00:00, 426031.43it/s]\n"
          ]
        }
      ]
    },
    {
      "cell_type": "markdown",
      "metadata": {
        "id": "n2JHegbV5Ceb"
      },
      "source": [
        "## Produce Recommendations (Maria Lovaton)"
      ]
    },
    {
      "cell_type": "markdown",
      "metadata": {
        "id": "82u7uaNumqNo"
      },
      "source": [
        "Source: https://sci-hub.se/https://doi.org/10.1007/978-3-319-61030-6_7"
      ]
    },
    {
      "cell_type": "code",
      "metadata": {
        "id": "8a-1bAezxwIQ"
      },
      "source": [
        "from functools import lru_cache\n",
        "\n",
        "URL_USER_SUBMISSIONS = 'https://codeforces.com/api/user.status'\n",
        "\n",
        "\n",
        "@lru_cache(maxsize = 128)\n",
        "def get_all_problems():\n",
        "    df = pd.DataFrame(sim.keys(), columns =['problem'])\n",
        "    return df\n",
        "\n",
        "@lru_cache(maxsize = 128)\n",
        "def get_user_problems(user_handle):\n",
        "    res = requests.get(URL_USER_SUBMISSIONS,\n",
        "                       params={'handle': user_handle, 'from': 1,\n",
        "                       'to': 10000})\n",
        "    df = pd.DataFrame.from_dict(res.json()['result'])\n",
        "    df = df[df['verdict'] == 'OK' | df['verdict'] == 'WRONG_ANSWER']\n",
        "    df = df[['problem']]\n",
        "    df['problem'] = df['problem'].apply(lambda x: str(x['contestId']) \\\n",
        "            + x['index'])\n",
        "    df.drop_duplicates(subset=['problem'])\n",
        "    return df\n",
        "\n",
        "@lru_cache(maxsize = 128)\n",
        "def get_solved_problems(user_handle):\n",
        "    df = get_user_problems()\n",
        "    df = df[df['verdict'] == 'OK']\n",
        "    return df\n",
        "\n",
        "@lru_cache(maxsize = 128)\n",
        "def get_pending_problems(user_handle, sim):\n",
        "    all_problems = get_all_problems()\n",
        "    solved_problems = get_solved_problems()\n",
        "    df = all_problems[~problem.isin(solved_problems['problem'])]\n",
        "    return "
      ],
      "execution_count": null,
      "outputs": []
    },
    {
      "cell_type": "code",
      "metadata": {
        "id": "tZgaGALm4-4g"
      },
      "source": [
        "def recommend(user_handle, sim):\n",
        "  solved_problems = get_solved_problems()\n",
        "  pending_problems = get_pending_problems()\n",
        "  P = defaultdict(int)\n",
        "  for pi in solved_problems:\n",
        "    for pj in pending_problems:\n",
        "      if P[pj] < sim[pi][pj]:\n",
        "        P[pj] = sim[pi][pj]\n",
        "  ans = P.items() # (problem, similarity)\n",
        "  ans.sort(key=lambda (x, y): y, reverse=True)\n",
        "  return ans"
      ],
      "execution_count": null,
      "outputs": []
    },
    {
      "cell_type": "code",
      "metadata": {
        "id": "dx3B4UFa5NI0"
      },
      "source": [
        "recommend('dgcnz', sim)"
      ],
      "execution_count": null,
      "outputs": []
    }
  ]
}
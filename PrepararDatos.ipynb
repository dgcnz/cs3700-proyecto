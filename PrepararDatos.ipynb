{
 "cells": [
  {
   "cell_type": "code",
   "execution_count": 1,
   "id": "1b26fe0f",
   "metadata": {},
   "outputs": [],
   "source": [
    "import os\n",
    "os.environ[\"JAVA_HOME\"] = \"/usr/lib/jvm/java-11-openjdk-amd64\"\n",
    "os.environ[\"SPARK_HOME\"] = \"/home/administrador/.conda/envs/pyspark/lib/python3.7/site-packages/pyspark\""
   ]
  },
  {
   "cell_type": "code",
   "execution_count": 2,
   "id": "8a5f9b03",
   "metadata": {},
   "outputs": [],
   "source": [
    "import findspark\n",
    "findspark.init()# SPARK_HOME\n",
    "from pyspark.sql import SparkSession\n",
    "SpSession = SparkSession.builder.master(\"local[*]\").getOrCreate()"
   ]
  },
  {
   "cell_type": "code",
   "execution_count": 9,
   "id": "a981538f",
   "metadata": {},
   "outputs": [],
   "source": [
    "from pyspark.sql.types import StructType, StructField, StringType, IntegerType, FloatType\n",
    "from pyspark.sql import functions as func"
   ]
  },
  {
   "cell_type": "code",
   "execution_count": 4,
   "id": "4eb1a3ab",
   "metadata": {},
   "outputs": [],
   "source": [
    "schemaUser = StructType([StructField(\"handle\", StringType(), True),\n",
    "                        StructField(\"country\", StringType(), True),\n",
    "                        StructField(\"city\", StringType(), True),\n",
    "                        StructField(\"rating\", IntegerType(), True),\n",
    "                        StructField(\"maxRating\", IntegerType(), True),\n",
    "                        StructField(\"lastOnlineTimeSeconds\", StringType(), True),])"
   ]
  },
  {
   "cell_type": "code",
   "execution_count": 7,
   "id": "ff9b3708",
   "metadata": {},
   "outputs": [],
   "source": [
    "dfUser = SpSession.read.schema(schemaUser).csv(\"user.csv\")"
   ]
  },
  {
   "cell_type": "code",
   "execution_count": 8,
   "id": "4380468b",
   "metadata": {},
   "outputs": [
    {
     "name": "stdout",
     "output_type": "stream",
     "text": [
      "+-----------------+-------------+---------+------+---------+---------------------+\n",
      "|           handle|      country|     city|rating|maxRating|lastOnlineTimeSeconds|\n",
      "+-----------------+-------------+---------+------+---------+---------------------+\n",
      "|          tourist|      Belarus|    Gomel|  3797|     3822|           1637834489|\n",
      "|Retired_MiFaFaOvO|        Samoa|     null|  3681|     3681|           1637768759|\n",
      "|             Benq|United States|Princeton|  3618|     3797|           1637873296|\n",
      "|        Radewoosh|       Poland|   Warsaw|  3525|     3720|           1637852396|\n",
      "|        Miracle03|        China|  Beijing|  3460|     3587|           1637806030|\n",
      "|        ecnerwala|United States|Cupertino|  3419|     3668|           1637870594|\n",
      "|             Petr|  Switzerland|   Zurich|  3408|     3597|           1637775643|\n",
      "|   peehs_moorhsum|        China|  Beijing|  3384|     3532|           1637771739|\n",
      "|           ksun48|       Canada|     null|  3377|     3654|           1637771598|\n",
      "|         ko_osaga|  South Korea|    Seoul|  3352|     3352|           1637761543|\n",
      "|         maroonrk|        Japan|    Tokyo|  3344|     3606|           1637807301|\n",
      "|           sunset|        China|  Beijing|  3338|     3438|           1637889067|\n",
      "|          djq_cpp|        China|  Nanjing|  3294|     3394|           1637854001|\n",
      "|          jiangly|        China|Chongqing|  3287|     3492|           1637845664|\n",
      "|        V--o_o--V|       Russia|   Moscow|  3275|     3338|           1617696908|\n",
      "|       Syloviaely|        China|  Beijing|  3274|     3274|           1637146319|\n",
      "|      fivedemands|    Hong Kong|     null|  3265|     3265|           1637418572|\n",
      "|        hos.lyric|        Japan|    Tokyo|  3257|     3301|           1637807259|\n",
      "|              TLE|        China|   Fuzhou|  3230|     3374|           1637854666|\n",
      "|         W4yneb0t|  Switzerland|     null|  3218|     3272|           1597895332|\n",
      "+-----------------+-------------+---------+------+---------+---------------------+\n",
      "only showing top 20 rows\n",
      "\n"
     ]
    }
   ],
   "source": [
    "dfUser.show()"
   ]
  },
  {
   "cell_type": "code",
   "execution_count": 13,
   "id": "dd1e3b9e",
   "metadata": {},
   "outputs": [],
   "source": [
    "dfUserRating = dfUser.select(dfUser.handle, dfUser.rating)"
   ]
  },
  {
   "cell_type": "code",
   "execution_count": 21,
   "id": "e9be5981",
   "metadata": {},
   "outputs": [],
   "source": [
    "dfUserDONE = dfUserRating.filter(dfUserRating.rating.between(1650,1700))"
   ]
  },
  {
   "cell_type": "code",
   "execution_count": 30,
   "id": "469be416",
   "metadata": {},
   "outputs": [
    {
     "data": {
      "text/plain": [
       "230"
      ]
     },
     "execution_count": 30,
     "metadata": {},
     "output_type": "execute_result"
    }
   ],
   "source": [
    "dfUserRating.filter(dfUserRating.rating.between(1600,1600)).count()"
   ]
  },
  {
   "cell_type": "code",
   "execution_count": 29,
   "id": "aa488856",
   "metadata": {},
   "outputs": [],
   "source": [
    "dfUserRating.filter(dfUserRating.rating.between(1600,1600)).select(\"handle\").toPandas().to_csv('userAux.csv')"
   ]
  },
  {
   "cell_type": "code",
   "execution_count": 26,
   "id": "9476a61f",
   "metadata": {},
   "outputs": [
    {
     "data": {
      "text/plain": [
       "7821"
      ]
     },
     "execution_count": 26,
     "metadata": {},
     "output_type": "execute_result"
    }
   ],
   "source": [
    "dfUserDONE.count()"
   ]
  },
  {
   "cell_type": "code",
   "execution_count": 24,
   "id": "29115b2c",
   "metadata": {},
   "outputs": [],
   "source": [
    "dfUserDONE.select(\"handle\").toPandas().to_csv('userDONE.csv')"
   ]
  },
  {
   "cell_type": "code",
   "execution_count": 31,
   "id": "3e1a1255",
   "metadata": {},
   "outputs": [],
   "source": [
    "schemaUserProb = StructType([StructField(\"handle\", StringType(), True),\n",
    "                        StructField(\"problemID\", StringType(), True),\n",
    "                        StructField(\"tags\", StringType(), True)])"
   ]
  },
  {
   "cell_type": "code",
   "execution_count": 32,
   "id": "f0303555",
   "metadata": {},
   "outputs": [],
   "source": [
    "dfUserProb = SpSession.read.schema(schemaUserProb).csv(\"problemByUser.csv\")"
   ]
  },
  {
   "cell_type": "code",
   "execution_count": 36,
   "id": "16e46a99",
   "metadata": {},
   "outputs": [
    {
     "data": {
      "text/plain": [
       "52776"
      ]
     },
     "execution_count": 36,
     "metadata": {},
     "output_type": "execute_result"
    }
   ],
   "source": [
    "dfUserProb.count()"
   ]
  },
  {
   "cell_type": "code",
   "execution_count": 39,
   "id": "f3fb682d",
   "metadata": {},
   "outputs": [],
   "source": [
    "dfUserProb.select(\"handle\", \"problemID\").distinct().toPandas().to_csv('userProblemDONE.csv', index=False)"
   ]
  },
  {
   "cell_type": "code",
   "execution_count": 38,
   "id": "2b141158",
   "metadata": {},
   "outputs": [
    {
     "data": {
      "text/plain": [
       "48866"
      ]
     },
     "execution_count": 38,
     "metadata": {},
     "output_type": "execute_result"
    }
   ],
   "source": [
    "dfUserProb.select(\"handle\", \"problemID\").distinct().count()"
   ]
  },
  {
   "cell_type": "code",
   "execution_count": 25,
   "id": "ef1525fa",
   "metadata": {},
   "outputs": [],
   "source": [
    "import urllib.request, json  \n",
    "import csv"
   ]
  },
  {
   "cell_type": "code",
   "execution_count": null,
   "id": "9ab60510",
   "metadata": {},
   "outputs": [],
   "source": []
  }
 ],
 "metadata": {
  "kernelspec": {
   "display_name": "pyspark_env",
   "language": "python",
   "name": "pyspark"
  },
  "language_info": {
   "codemirror_mode": {
    "name": "ipython",
    "version": 3
   },
   "file_extension": ".py",
   "mimetype": "text/x-python",
   "name": "python",
   "nbconvert_exporter": "python",
   "pygments_lexer": "ipython3",
   "version": "3.7.0"
  }
 },
 "nbformat": 4,
 "nbformat_minor": 5
}

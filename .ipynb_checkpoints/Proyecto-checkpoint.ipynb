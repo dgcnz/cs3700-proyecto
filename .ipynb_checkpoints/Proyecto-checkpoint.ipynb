{
 "cells": [
  {
   "cell_type": "code",
   "execution_count": 9,
   "metadata": {
    "id": "CsMQzsvhhOK2"
   },
   "outputs": [],
   "source": [
    "import requests\n",
    "import pprint\n",
    "import pandas as pd\n",
    "import numpy as np\n",
    "from collections import defaultdict\n",
    "from tqdm import tqdm\n",
    "import random\n",
    "import networkx as nx\n",
    "import matplotlib.pyplot as plt\n",
    "from typing import List\n",
    "from typing import Dict\n",
    "from itertools import combinations\n",
    "import time"
   ]
  },
  {
   "cell_type": "markdown",
   "metadata": {
    "id": "vAYfoKauRVRH"
   },
   "source": [
    "## Old"
   ]
  },
  {
   "cell_type": "code",
   "execution_count": 10,
   "metadata": {
    "id": "20vVZfpGmWMd"
   },
   "outputs": [],
   "source": [
    "def filter_handles(df: pd.DataFrame, handles=[]) -> pd.DataFrame:\n",
    "  df = df[df['handle'].isin(handles)]\n",
    "  return df\n",
    "\n",
    "def sample_random_users(df: pd.DataFrame, N:int = 5) -> pd.DataFrame:\n",
    "  handles = list(df['handle'].unique())\n",
    "  return random.sample(handles, N)"
   ]
  },
  {
   "cell_type": "code",
   "execution_count": 11,
   "metadata": {
    "id": "8a-1bAezxwIQ"
   },
   "outputs": [],
   "source": [
    "from functools import lru_cache\n",
    "\n",
    "URL_USER_SUBMISSIONS = 'https://codeforces.com/api/user.status'\n",
    "\n",
    "@lru_cache(maxsize = 128)\n",
    "def get_all_problems(df):\n",
    "    return df['problemID'].unique().tolist()\n",
    "\n",
    "@lru_cache(maxsize = 128)\n",
    "def get_all_user_problems(user_handle):\n",
    "    res = requests.get(URL_USER_SUBMISSIONS,\n",
    "                       params={'handle': user_handle, 'from': 1,\n",
    "                       'to': 10000})\n",
    "    df = pd.DataFrame.from_dict(res.json()['result'])\n",
    "    df = df[(df['verdict'] == 'OK') | (df['verdict'] == 'WRONG_ANSWER')]\n",
    "    df = df[['problem', 'verdict']]\n",
    "    df['problem'] = df['problem'].apply(lambda x: str(x['contestId']) \\\n",
    "            + x['index'])\n",
    "    df.drop_duplicates(subset=['problem'])\n",
    "    return df\n",
    "\n",
    "@lru_cache(maxsize = 128)\n",
    "def get_solved_problems(df, user_handle):\n",
    "  return df[df['handle'] == user_handle] \n",
    "\n",
    "@lru_cache(maxsize = 128)\n",
    "def get_pending_problems(user_handle):\n",
    "    all_problems = get_all_problems()\n",
    "    solved_problems = get_solved_problems(user_handle)\n",
    "    df = all_problems[~all_problems['problem'].isin(solved_problems['problem'])]\n",
    "    return df"
   ]
  },
  {
   "cell_type": "markdown",
   "metadata": {
    "id": "zC-4QHCgmJmO"
   },
   "source": [
    "## Loading and Sampling Dataset (Diego Canez)"
   ]
  },
  {
   "cell_type": "code",
   "execution_count": 12,
   "metadata": {
    "id": "GHP4mAwjD8fP"
   },
   "outputs": [],
   "source": [
    "def get_all_user_problems(user_handle: str):\n",
    "    res = requests.get(URL_USER_SUBMISSIONS,\n",
    "                       params={'handle': user_handle})\n",
    "    df = pd.DataFrame.from_dict(res.json()['result'])\n",
    "    df = df[df['verdict'] == 'OK']\n",
    "    df = df[['problem']]\n",
    "    df['problem'] = df['problem'].apply(lambda x: str(x['contestId']) + x['index'] if 'contestId' in x else None)\n",
    "    df.dropna(inplace=True)\n",
    "    df.drop_duplicates(subset=['problem'], inplace=True)\n",
    "    return df['problem'].tolist()\n",
    "\n",
    "def prepare_dataset(user_handles: List[str]):\n",
    "  data = {}\n",
    "  for handle in user_handles:\n",
    "    data[handle] = get_all_user_problems(handle)\n",
    "    time.sleep(1)\n",
    "  return data"
   ]
  },
  {
   "cell_type": "code",
   "execution_count": 13,
   "metadata": {
    "id": "uuhupmlGV092"
   },
   "outputs": [],
   "source": [
    "def get_users(k=None):\n",
    "  URL = 'https://codeforces.com/api/user.ratedList?activeOnly=true'\n",
    "  res = requests.get(URL)\n",
    "  df = pd.DataFrame.from_dict(res.json()['result'])\n",
    "  ans = df['handle'].tolist()\n",
    "  if k is None:\n",
    "    k = len(ans)\n",
    "  return random.sample(ans, k)\n"
   ]
  },
  {
   "cell_type": "markdown",
   "metadata": {
    "id": "J-yLCfCetYAN"
   },
   "source": [
    "## Creation of the Graph (Jorge Rebosio)"
   ]
  },
  {
   "cell_type": "code",
   "execution_count": 14,
   "metadata": {
    "id": "4Jg1RJKcX5U0"
   },
   "outputs": [],
   "source": [
    "def add_edges(G: nx.Graph, user_problems_ix: List[int]):\n",
    "  for u, v in combinations(user_problems_ix, 2):\n",
    "    if (G.has_edge(u , v)):\n",
    "      G.edges[u, v]['weight'] += 1 \n",
    "    else:\n",
    "      G.add_edge(u, v, weight=1)\n",
    "\n",
    "def create_graph(user_problems_ix: Dict[str, List[int]]) -> nx.Graph:\n",
    "  G = nx.Graph()\n",
    "  for user, problems in user_problems_ix.items():\n",
    "    add_edges(G, problems)\n",
    "  return G"
   ]
  },
  {
   "cell_type": "markdown",
   "metadata": {
    "id": "4UJvogyavNeA"
   },
   "source": [
    "### Plotting Subgraph"
   ]
  },
  {
   "cell_type": "code",
   "execution_count": 15,
   "metadata": {
    "id": "yXtkefknmIB-"
   },
   "outputs": [],
   "source": [
    "# Sampling 10 nodes from graph G\n",
    "def draw_subgraph(G: nx.Graph, N = 10, edge_attribute='weight'):\n",
    "  H = G.subgraph(list(G.nodes)[:N])\n",
    "  pos = nx.spring_layout(H)\n",
    "  nx.draw(H, pos)\n",
    "  edge_labels = nx.get_edge_attributes(H,edge_attribute)\n",
    "  nx.draw_networkx_edge_labels(H, pos, edge_labels=edge_labels)\n",
    "  plt.show()"
   ]
  },
  {
   "cell_type": "markdown",
   "metadata": {
    "id": "b9Cv3GOnvmG2"
   },
   "source": [
    "## Building similarity matrix (Diego Canez)"
   ]
  },
  {
   "cell_type": "markdown",
   "metadata": {
    "id": "fhcW3xHwv_cJ"
   },
   "source": [
    "### Similarity Metrics"
   ]
  },
  {
   "cell_type": "markdown",
   "metadata": {
    "id": "n-TYy1NSkyP7"
   },
   "source": [
    "#### Edge Weights (EW)\n",
    "$$\n",
    "EW(x, y) = A_{x, y}\n",
    "$$"
   ]
  },
  {
   "cell_type": "code",
   "execution_count": 16,
   "metadata": {
    "id": "HbfuoPvZkxYE"
   },
   "outputs": [],
   "source": [
    "def edge_weights(G: nx.Graph, attr='weight'):\n",
    "    N = len(G)\n",
    "    # EW = defaultdict(lambda: defaultdict(int))\n",
    "    EW = np.zeros((N, N))\n",
    "    for (x, y) in tqdm(G.edges()):\n",
    "      EW[x, y] = G[x][y][attr]\n",
    "    return EW"
   ]
  },
  {
   "cell_type": "markdown",
   "metadata": {
    "id": "zxHh-BTN40nd"
   },
   "source": [
    "#### Weighted Common Neighbors (WCN)\n",
    "$$\n",
    "WCN(x, y) = \\Sigma_{z \\in N(x) \\cap N(y)} A_{x, z} + A_{z, y}\n",
    "$$"
   ]
  },
  {
   "cell_type": "code",
   "execution_count": 17,
   "metadata": {
    "id": "8CfGr453vKHQ"
   },
   "outputs": [],
   "source": [
    "def weighted_common_neighbors(G: nx.Graph, attr='weight'):\n",
    "  N = len(G)\n",
    "  # WCN = defaultdict(lambda: defaultdict(int))\n",
    "  WCN = np.zeros((N, N))\n",
    "  for (x, y) in tqdm(G.edges()):\n",
    "    for z in nx.common_neighbors(G, x, y):\n",
    "      val = G[x][z][attr] + G[z][y][attr]\n",
    "      WCN[x, y] += val\n",
    "      WCN[y, x] += val\n",
    "  return WCN"
   ]
  },
  {
   "cell_type": "markdown",
   "metadata": {
    "id": "n2JHegbV5Ceb"
   },
   "source": [
    "## Produce Recommendations (Maria Lovaton)"
   ]
  },
  {
   "cell_type": "markdown",
   "metadata": {
    "id": "82u7uaNumqNo"
   },
   "source": [
    "Source: https://sci-hub.se/https://doi.org/10.1007/978-3-319-61030-6_7"
   ]
  },
  {
   "cell_type": "code",
   "execution_count": 26,
   "metadata": {
    "id": "tZgaGALm4-4g"
   },
   "outputs": [],
   "source": [
    "def recommend(user_handle, sim, user_problems_ix, problems_ix, problems, k=None):\n",
    "  N = len(problems_ix)\n",
    "  solved_problems = user_problems_ix[user_handle]\n",
    "  pending_problems = list(set(range(N)) - set(problems_ix))\n",
    "  P = [0.0] * N\n",
    "  for pi in solved_problems:\n",
    "    for pj in pending_problems:\n",
    "      if P[pj] < sim[pi, pj]:\n",
    "        P[pj] = sim[pi, pj]\n",
    "  ans = list(enumerate(P))\n",
    "  ans.sort(key=lambda index_score: index_score[1], reverse=True)\n",
    "  ans = [(problems[ix], score) for ix, score in ans]\n",
    "  if k is None:\n",
    "    return ans\n",
    "  else:\n",
    "    k = min(len(ans), max(0, k))\n",
    "    return ans[:k]"
   ]
  },
  {
   "cell_type": "markdown",
   "metadata": {
    "id": "F3PFLv9yQmlU"
   },
   "source": [
    "## Execution"
   ]
  },
  {
   "cell_type": "code",
   "execution_count": 19,
   "metadata": {
    "colab": {
     "base_uri": "https://localhost:8080/"
    },
    "id": "goj9HwkeRPdn",
    "outputId": "489bf258-b886-499b-be85-957bcf65df39"
   },
   "outputs": [
    {
     "name": "stdout",
     "output_type": "stream",
     "text": [
      "['dgcnz', 'whdywjd', 'RKdvt28', 'bruhascended', 'ognjentesic', 'ayush.goyal017', 'vaibhav_2003', 'skaty082', 'abdo123', 'uninterested_programmer', 'lalala07', 'mishanya_stulov', 'Accidentally_Coder', 'dcnidan', 'singhshivsm20001', 'ChongJH', 'MD.Abdullah', 'shkoosha', 'BRABUS_666', 'iit2019025', 'rafi1234']\n"
     ]
    }
   ],
   "source": [
    "users = ['dgcnz'] + get_users(k=20)\n",
    "print(users) "
   ]
  },
  {
   "cell_type": "code",
   "execution_count": 20,
   "metadata": {},
   "outputs": [],
   "source": [
    "users = ['dgcnz', 'Yinch', 'ginious', 'Gornak40', 'VLADOSIO', 'Elkhiat']"
   ]
  },
  {
   "cell_type": "code",
   "execution_count": 21,
   "metadata": {
    "colab": {
     "base_uri": "https://localhost:8080/"
    },
    "id": "MbYv-GR5RPdo",
    "outputId": "faa06a62-f867-41b6-b33f-e5dd2785adee"
   },
   "outputs": [
    {
     "name": "stdout",
     "output_type": "stream",
     "text": [
      "CPU times: user 236 ms, sys: 6.85 ms, total: 243 ms\n",
      "Wall time: 13.8 s\n"
     ]
    }
   ],
   "source": [
    "%%time\n",
    "user_problems = prepare_dataset(users)\n",
    "problems = list({problem for problem_list in user_problems.values() for problem in problem_list})\n",
    "problems_ix = {problemId : index for index, problemId in enumerate(problems)}\n",
    "user_problems_ix = {user : [problems_ix[problem] for problem in problems] for user, problems in user_problems.items()}"
   ]
  },
  {
   "cell_type": "code",
   "execution_count": 22,
   "metadata": {
    "colab": {
     "base_uri": "https://localhost:8080/"
    },
    "id": "NP2Ow-vkUO68",
    "outputId": "9f6e7c83-a8e8-4aab-91fe-7980562b833c"
   },
   "outputs": [
    {
     "data": {
      "text/plain": [
       "1373"
      ]
     },
     "execution_count": 22,
     "metadata": {},
     "output_type": "execute_result"
    }
   ],
   "source": [
    "len(problems)"
   ]
  },
  {
   "cell_type": "code",
   "execution_count": 23,
   "metadata": {
    "colab": {
     "base_uri": "https://localhost:8080/"
    },
    "id": "kGXzKcH5QmOj",
    "outputId": "c98dfcd4-6470-4cd4-bdeb-3cdb290f2aa3"
   },
   "outputs": [
    {
     "name": "stderr",
     "output_type": "stream",
     "text": [
      "100%|████████| 592189/592189 [30:22<00:00, 324.90it/s]"
     ]
    },
    {
     "name": "stdout",
     "output_type": "stream",
     "text": [
      "CPU times: user 30min 14s, sys: 6.7 s, total: 30min 21s\n",
      "Wall time: 30min 23s\n"
     ]
    },
    {
     "name": "stderr",
     "output_type": "stream",
     "text": [
      "\n"
     ]
    }
   ],
   "source": [
    "%%time\n",
    "G = create_graph(user_problems_ix)\n",
    "sim = weighted_common_neighbors(G)\n",
    "# sim = edge_weights(G)"
   ]
  },
  {
   "cell_type": "code",
   "execution_count": 27,
   "metadata": {
    "colab": {
     "base_uri": "https://localhost:8080/"
    },
    "id": "dx3B4UFa5NI0",
    "outputId": "b8c65fc9-3e95-4b2b-e1f9-4f50e2da67f3"
   },
   "outputs": [
    {
     "name": "stdout",
     "output_type": "stream",
     "text": [
      "CPU times: user 200 ms, sys: 6.52 ms, total: 206 ms\n",
      "Wall time: 205 ms\n"
     ]
    },
    {
     "data": {
      "text/plain": [
       "[('1610A', 2995.0),\n",
       " ('791A', 2995.0),\n",
       " ('1393A', 2993.0),\n",
       " ('1420C1', 2993.0),\n",
       " ('1509C', 2993.0)]"
      ]
     },
     "execution_count": 27,
     "metadata": {},
     "output_type": "execute_result"
    }
   ],
   "source": [
    "%%time\n",
    "recommend('dgcnz', sim, user_problems_ix, problems_ix, problems, k=5)"
   ]
  },
  {
   "cell_type": "code",
   "execution_count": null,
   "metadata": {},
   "outputs": [],
   "source": []
  }
 ],
 "metadata": {
  "colab": {
   "collapsed_sections": [],
   "name": "Proyecto.ipynb",
   "provenance": []
  },
  "kernelspec": {
   "display_name": "Python 3 (ipykernel)",
   "language": "python",
   "name": "python3"
  },
  "language_info": {
   "codemirror_mode": {
    "name": "ipython",
    "version": 3
   },
   "file_extension": ".py",
   "mimetype": "text/x-python",
   "name": "python",
   "nbconvert_exporter": "python",
   "pygments_lexer": "ipython3",
   "version": "3.9.7"
  }
 },
 "nbformat": 4,
 "nbformat_minor": 1
}
